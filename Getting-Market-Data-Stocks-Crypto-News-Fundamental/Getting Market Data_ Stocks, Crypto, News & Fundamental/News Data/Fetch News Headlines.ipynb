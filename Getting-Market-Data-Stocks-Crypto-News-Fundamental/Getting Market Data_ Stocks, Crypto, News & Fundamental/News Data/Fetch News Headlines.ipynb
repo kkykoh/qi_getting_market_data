{
 "cells": [
  {
   "cell_type": "markdown",
   "id": "f1178c71-8e3a-45a0-8fac-4469c8789939",
   "metadata": {},
   "source": [
    "# Notebook Instructions\n",
    "\n",
    "1. If you are new to Jupyter notebooks, please go through this introductory manual <a href='https://quantra.quantinsti.com/quantra-notebook' target=\"_blank\">here</a>.\n",
    "1. Any changes made in this notebook would be lost after you close the browser window. **You can download the notebook to save your work on your PC.**\n",
    "1. Before running this notebook on your local PC:<br>\n",
    "i.  You need to set up a Python environment and the relevant packages on your local PC. To do so, go through the section on \"**Run Codes Locally on Your Machine**\" in the course.<br>\n",
    "ii. You need to **download the zip file available in the last unit** of this course. The zip file contains the data files and/or python modules that might be required to run this notebook."
   ]
  },
  {
   "cell_type": "markdown",
   "id": "3ea7dcb4",
   "metadata": {
    "id": "WWSuv0eirwDg"
   },
   "source": [
    "## Recent News Headlines\n",
    "\n",
    "There are various Python APIs such as [Webhose](http://webhose.io/), [NewsAPI](http://newsapi.org/pricing), [News Fetch](https://pypi.org/project/news-fetch/), [GoogleNews](http://pypi.org/project/GoogleNews/) etc. which aggregate news headlines from various media sources. The framework for using these APIs/libraries are somewhat similar. \n",
    "\n",
    "The general steps are:\n",
    "\n",
    "1. Install and import the library\n",
    "\n",
    "2. Get API key (Not required in some cases)\n",
    "\n",
    "2. Use filters such as keywords, language, timeframe etc. \n",
    "\n",
    "3. Fetch articles\n",
    "\n",
    "To use a specific API/library, you need to read its documentation.  \n",
    "\n",
    "\n",
    "In this notebook, you will learn how to fetch news articles from the [NewsAPI](http://newsapi.org/pricing). We will follow the below steps:\n",
    "\n",
    "1. Import NewsAPI library\n",
    "2. Get the API Key\n",
    "3. Apply filters\n",
    "3. Fetch the news articles"
   ]
  },
  {
   "cell_type": "code",
   "execution_count": 1,
   "id": "7b97083d",
   "metadata": {},
   "outputs": [
    {
     "name": "stdout",
     "output_type": "stream",
     "text": [
      "Requirement already satisfied: newsapi-python in /home/nb-user/.conda/envs/quantra_py/lib/python3.11/site-packages (0.2.7)\n",
      "Requirement already satisfied: requests<3.0.0 in /home/nb-user/.conda/envs/quantra_py/lib/python3.11/site-packages (from newsapi-python) (2.32.3)\n",
      "Requirement already satisfied: charset_normalizer<4,>=2 in /home/nb-user/.conda/envs/quantra_py/lib/python3.11/site-packages (from requests<3.0.0->newsapi-python) (3.4.1)\n",
      "Requirement already satisfied: idna<4,>=2.5 in /home/nb-user/.conda/envs/quantra_py/lib/python3.11/site-packages (from requests<3.0.0->newsapi-python) (3.10)\n",
      "Requirement already satisfied: urllib3<3,>=1.21.1 in /home/nb-user/.conda/envs/quantra_py/lib/python3.11/site-packages (from requests<3.0.0->newsapi-python) (1.26.20)\n",
      "Requirement already satisfied: certifi>=2017.4.17 in /home/nb-user/.conda/envs/quantra_py/lib/python3.11/site-packages (from requests<3.0.0->newsapi-python) (2025.1.31)\n"
     ]
    }
   ],
   "source": [
    "!pip install newsapi-python"
   ]
  },
  {
   "cell_type": "markdown",
   "id": "79b56902",
   "metadata": {
    "id": "er7dQNWurwDh"
   },
   "source": [
    "## Import libraries\n",
    "Before importing NewsAPI package, you need to install it. You can do that using the pip command. "
   ]
  },
  {
   "cell_type": "code",
   "execution_count": 2,
   "id": "10bea609",
   "metadata": {
    "id": "sbwHodXPrwDh"
   },
   "outputs": [],
   "source": [
    "# Import pandas and numpy\n",
    "import pandas as pd\n",
    "import numpy as np\n",
    "\n",
    "# Import NewsAPI module\n",
    "from newsapi import NewsApiClient\n",
    "\n",
    "import warnings\n",
    "warnings.simplefilter('ignore')"
   ]
  },
  {
   "cell_type": "markdown",
   "id": "871a7bab",
   "metadata": {},
   "source": [
    "Here we are initialising NewsApiClient with an API Key. You can get a free API key by registering on the [NewsAPI website](https://newsapi.org/).\n",
    "\n",
    "**Note: This notebook will only run if you add your API key in the below cell.**"
   ]
  },
  {
   "cell_type": "code",
   "execution_count": 3,
   "id": "4f05f944",
   "metadata": {},
   "outputs": [],
   "source": [
    "# Initialize NewsApiClient with your API key\n",
    "newsapi = NewsApiClient(api_key='add_your_API_key_here')"
   ]
  },
  {
   "cell_type": "markdown",
   "id": "457b5dc7",
   "metadata": {
    "id": "Itl-_JHUrwDi"
   },
   "source": [
    "## Apply filters\n",
    "\n",
    "We will apply filters to get the news articles. You can filter by:\n",
    "    \n",
    "**Keywords:** List of the keywords which you want to search it can be anything such as business, stocks, apple, economy.\n",
    "\n",
    "In the below example, we are using keywords related to stock Apple(`AAPL`)."
   ]
  },
  {
   "cell_type": "code",
   "execution_count": 4,
   "id": "0d64c3c2",
   "metadata": {
    "id": "jRTQadbjrwDj"
   },
   "outputs": [],
   "source": [
    "keywords = ['Apple-Stock', 'Apple-Revenue', 'Apple-Sales', 'Apple', 'AAPL']"
   ]
  },
  {
   "cell_type": "markdown",
   "id": "bc901f79",
   "metadata": {
    "id": "RE69Sww8rwDj"
   },
   "source": [
    "## Fetch the news articles\n",
    "\n",
    "We create a dataframe that stores all the relevant information required from a news article, such as date, time, title/headline, description of the news article, and the source."
   ]
  },
  {
   "cell_type": "code",
   "execution_count": 5,
   "id": "d7c2aca1",
   "metadata": {},
   "outputs": [
    {
     "data": {
      "text/html": [
       "<div>\n",
       "<style scoped>\n",
       "    .dataframe tbody tr th:only-of-type {\n",
       "        vertical-align: middle;\n",
       "    }\n",
       "\n",
       "    .dataframe tbody tr th {\n",
       "        vertical-align: top;\n",
       "    }\n",
       "\n",
       "    .dataframe thead th {\n",
       "        text-align: right;\n",
       "    }\n",
       "</style>\n",
       "<table border=\"1\" class=\"dataframe\">\n",
       "  <thead>\n",
       "    <tr style=\"text-align: right;\">\n",
       "      <th></th>\n",
       "      <th>Date</th>\n",
       "      <th>Title</th>\n",
       "      <th>Articles</th>\n",
       "      <th>Link</th>\n",
       "    </tr>\n",
       "  </thead>\n",
       "  <tbody>\n",
       "    <tr>\n",
       "      <th>496</th>\n",
       "      <td>2023-08-22 14:57:00+00:00</td>\n",
       "      <td>Cramer says AI hype is hurting this group of s...</td>\n",
       "      <td>The artificial intelligence trade has crushed ...</td>\n",
       "      <td>https://www.cnbc.com/2023/08/22/cramer-ai-hype...</td>\n",
       "    </tr>\n",
       "    <tr>\n",
       "      <th>497</th>\n",
       "      <td>2023-08-22 14:00:05+00:00</td>\n",
       "      <td>Here are 18 stocks Jim Cramer is watching, inc...</td>\n",
       "      <td>Here are some of the tickers on my radar for T...</td>\n",
       "      <td>https://biztoc.com/x/2e4e82c963ecabf7</td>\n",
       "    </tr>\n",
       "    <tr>\n",
       "      <th>498</th>\n",
       "      <td>2023-08-22 13:36:48+00:00</td>\n",
       "      <td>Here are the 18 stocks Jim Cramer is watching,...</td>\n",
       "      <td>Here are some of the tickers on my radar for T...</td>\n",
       "      <td>https://www.cnbc.com/2023/08/22/18-stocks-jim-...</td>\n",
       "    </tr>\n",
       "    <tr>\n",
       "      <th>499</th>\n",
       "      <td>2023-08-22 12:45:00+00:00</td>\n",
       "      <td>2 Clicks To 'Convert' Soaring Interest Rates I...</td>\n",
       "      <td>It’s prime time to grab two bond funds tossing...</td>\n",
       "      <td>https://www.forbes.com/sites/michaelfoster/202...</td>\n",
       "    </tr>\n",
       "    <tr>\n",
       "      <th>500</th>\n",
       "      <td>2023-08-22 12:42:05+00:00</td>\n",
       "      <td>How Much Will iPhone 15 Pro Cost? At Least $10...</td>\n",
       "      <td>The upcoming Apple Inc. AAPL iPhone 15 Pro mod...</td>\n",
       "      <td>https://biztoc.com/x/8d79c535456cf435</td>\n",
       "    </tr>\n",
       "  </tbody>\n",
       "</table>\n",
       "</div>"
      ],
      "text/plain": [
       "                         Date  \\\n",
       "496 2023-08-22 14:57:00+00:00   \n",
       "497 2023-08-22 14:00:05+00:00   \n",
       "498 2023-08-22 13:36:48+00:00   \n",
       "499 2023-08-22 12:45:00+00:00   \n",
       "500 2023-08-22 12:42:05+00:00   \n",
       "\n",
       "                                                 Title  \\\n",
       "496  Cramer says AI hype is hurting this group of s...   \n",
       "497  Here are 18 stocks Jim Cramer is watching, inc...   \n",
       "498  Here are the 18 stocks Jim Cramer is watching,...   \n",
       "499  2 Clicks To 'Convert' Soaring Interest Rates I...   \n",
       "500  How Much Will iPhone 15 Pro Cost? At Least $10...   \n",
       "\n",
       "                                              Articles  \\\n",
       "496  The artificial intelligence trade has crushed ...   \n",
       "497  Here are some of the tickers on my radar for T...   \n",
       "498  Here are some of the tickers on my radar for T...   \n",
       "499  It’s prime time to grab two bond funds tossing...   \n",
       "500  The upcoming Apple Inc. AAPL iPhone 15 Pro mod...   \n",
       "\n",
       "                                                  Link  \n",
       "496  https://www.cnbc.com/2023/08/22/cramer-ai-hype...  \n",
       "497              https://biztoc.com/x/2e4e82c963ecabf7  \n",
       "498  https://www.cnbc.com/2023/08/22/18-stocks-jim-...  \n",
       "499  https://www.forbes.com/sites/michaelfoster/202...  \n",
       "500              https://biztoc.com/x/8d79c535456cf435  "
      ]
     },
     "execution_count": 5,
     "metadata": {},
     "output_type": "execute_result"
    }
   ],
   "source": [
    "# Dataframe to store the news article information\n",
    "article_info = pd.DataFrame(columns=['Date', 'Title', 'Articles', 'Link'])\n",
    "\n",
    "# Fetch news articles for each keyword\n",
    "for keyword in keywords:\n",
    "    # Fetch news articles using News API\n",
    "    articles = newsapi.get_everything(q=keyword, language='en', sort_by='publishedAt', page_size=100)\n",
    "\n",
    "    # Extract article details and append to the DataFrame\n",
    "    for article in articles['articles']:\n",
    "        date = pd.to_datetime(article['publishedAt'])\n",
    "        title = article['title']\n",
    "        articles = article['description']\n",
    "        link = article['url']\n",
    "\n",
    "        article_info = article_info.append({'Date': date, 'Title': title,\n",
    "                                            'Articles': articles, 'Link': link}, ignore_index=True)\n",
    "\n",
    "# Resetting the index of the final result\n",
    "article_info.index = pd.RangeIndex(start=1, stop=len(article_info) + 1, step=1)\n",
    "article_info.tail()"
   ]
  },
  {
   "cell_type": "markdown",
   "id": "2642ed1a",
   "metadata": {
    "id": "fStNZAVerwDm"
   },
   "source": [
    "### Tweak the code\n",
    "\n",
    "1. Try fetching the news articles of different keywords or for different stocks such as Tesla, Microsoft etc.\n",
    "2. Increase the page count to fetch the articles for longer duration.\n",
    "3. Change the date range.<br><br>"
   ]
  }
 ],
 "metadata": {
  "colab": {
   "collapsed_sections": [],
   "name": "Getting Recent News Feed.ipynb",
   "provenance": []
  },
  "kernelspec": {
   "display_name": "Python 3 (ipykernel)",
   "language": "python",
   "name": "python3"
  },
  "language_info": {
   "codemirror_mode": {
    "name": "ipython",
    "version": 3
   },
   "file_extension": ".py",
   "mimetype": "text/x-python",
   "name": "python",
   "nbconvert_exporter": "python",
   "pygments_lexer": "ipython3",
   "version": "3.11.9"
  }
 },
 "nbformat": 4,
 "nbformat_minor": 5
}
