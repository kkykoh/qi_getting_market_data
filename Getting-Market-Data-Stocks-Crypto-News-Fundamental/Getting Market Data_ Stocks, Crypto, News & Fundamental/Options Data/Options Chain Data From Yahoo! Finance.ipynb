{
 "cells": [
  {
   "cell_type": "markdown",
   "id": "f1178c71-8e3a-45a0-8fac-4469c8789939",
   "metadata": {},
   "source": [
    "# Notebook Instructions\n",
    "\n",
    "1. If you are new to Jupyter notebooks, please go through this introductory manual <a href='https://quantra.quantinsti.com/quantra-notebook' target=\"_blank\">here</a>.\n",
    "1. Any changes made in this notebook would be lost after you close the browser window. **You can download the notebook to save your work on your PC.**\n",
    "1. Before running this notebook on your local PC:<br>\n",
    "i.  You need to set up a Python environment and the relevant packages on your local PC. To do so, go through the section on \"**Run Codes Locally on Your Machine**\" in the course.<br>\n",
    "ii. You need to **download the zip file available in the last unit** of this course. The zip file contains the data files and/or python modules that might be required to run this notebook."
   ]
  },
  {
   "cell_type": "markdown",
   "id": "33e9bbc3",
   "metadata": {},
   "source": [
    "# Options Chain Data from Yahoo! Finance\n",
    "\n",
    "In the previous sections, you have fetched a range of market data on stocks and currencies from Yahoo! Finance.  Additionally, it also offers options chain data for the US equities market. In this notebook, you will learn to get the call and puts options chain data from Yahoo! Finance. \n",
    "\n",
    "The notebook is divided into the following parts:\n",
    "1. [Get Available Expiration Dates](#expiration_dates) \n",
    "2. [Options Chain Data](#options_chain)<br>\n",
    "    2.1. [Get Calls Data](#calls_data)<br>\n",
    "    2.2. [Get Puts Data](#puts_data)\n",
    "    \n",
    "Note: At times, downloading the data may give you errors due to changes in yahoo finance. \n",
    "\n",
    "In such cases, it is recommended to upgrade the `yfinance` package using `pip install --upgrade yfinance`. You can update the 'cell type' for the below from 'Raw NBConvert' to a 'Code' cell. Then restart the kernel and run all of the following cells again."
   ]
  },
  {
   "cell_type": "raw",
   "id": "a622c7d8",
   "metadata": {},
   "source": [
    "pip install --upgrade yfinance"
   ]
  },
  {
   "cell_type": "markdown",
   "id": "40343231",
   "metadata": {},
   "source": [
    "## Import Libraries"
   ]
  },
  {
   "cell_type": "code",
   "execution_count": 1,
   "id": "6fb9c6db",
   "metadata": {},
   "outputs": [],
   "source": [
    "# Import yfinance package\n",
    "import yfinance as yf\n",
    "import numpy as np\n",
    "\n",
    "# For plotting\n",
    "import matplotlib.pyplot as plt\n",
    "%matplotlib inline\n",
    "plt.style.use('seaborn-v0_8-darkgrid')\n",
    "\n",
    "# Ignore warnings\n",
    "import warnings\n",
    "warnings.filterwarnings('ignore')"
   ]
  },
  {
   "cell_type": "markdown",
   "id": "aa675b8a",
   "metadata": {},
   "source": [
    "<a id='expiration_dates'></a> \n",
    "## Get Available Expiration Dates\n",
    "\n",
    "First, create a ticker object for a particular ticker (stock) for which you want the options chain data. To do that, you need to call the `Ticker` method of `yfinance`.\n",
    "\n",
    "To get the expiration dates for options of a particular ticker, you need to call the `options` method. "
   ]
  },
  {
   "cell_type": "code",
   "execution_count": 2,
   "id": "5fdd2eb9",
   "metadata": {
    "scrolled": true
   },
   "outputs": [
    {
     "data": {
      "text/plain": [
       "('2024-09-13',\n",
       " '2024-09-20',\n",
       " '2024-09-27',\n",
       " '2024-10-04',\n",
       " '2024-10-11',\n",
       " '2024-10-18',\n",
       " '2024-11-15',\n",
       " '2024-12-20',\n",
       " '2025-01-17',\n",
       " '2025-02-21',\n",
       " '2025-03-21',\n",
       " '2025-04-17',\n",
       " '2025-06-20',\n",
       " '2025-08-15',\n",
       " '2025-09-19',\n",
       " '2025-12-19',\n",
       " '2026-01-16',\n",
       " '2026-06-18',\n",
       " '2026-12-18')"
      ]
     },
     "execution_count": 2,
     "metadata": {},
     "output_type": "execute_result"
    }
   ],
   "source": [
    "# Create ticker object for Microsoft\n",
    "msft = yf.Ticker('MSFT')\n",
    "\n",
    "# Call the options on the ticker object to get the expiration dates\n",
    "msft.options"
   ]
  },
  {
   "cell_type": "markdown",
   "id": "0f428361",
   "metadata": {},
   "source": [
    "The above data shows the list of all available expiration dates for Microsoft options chain data."
   ]
  },
  {
   "cell_type": "markdown",
   "id": "214b2e54",
   "metadata": {},
   "source": [
    "<a id='options_chain'></a> \n",
    "## Options Chain Data\n",
    "\n",
    "To download options data, you can use the `option_chain` method. \n",
    "\n",
    "Syntax: \n",
    "```python\n",
    "ticker_object.option_chain(expiration_date)\n",
    "```\n",
    "Parameters:\n",
    "\n",
    "* `expiration_date`: Expiry date in the YYYY-MM-DD format. If none, returns all options data.\n",
    "\n",
    "You can use `calls` and `puts` methods to get the calls and puts options chain data, respectively."
   ]
  },
  {
   "cell_type": "code",
   "execution_count": 3,
   "id": "62d9074b",
   "metadata": {
    "scrolled": true
   },
   "outputs": [],
   "source": [
    "# Get options chain for specific expiration date\n",
    "option_chain = msft.option_chain(date=msft.options[0])"
   ]
  },
  {
   "cell_type": "markdown",
   "id": "b9b0c616",
   "metadata": {},
   "source": [
    "<a id='calls_data'></a>\n",
    "### Get Calls Data"
   ]
  },
  {
   "cell_type": "code",
   "execution_count": 4,
   "id": "9998a86a",
   "metadata": {},
   "outputs": [
    {
     "data": {
      "text/html": [
       "<div>\n",
       "<style scoped>\n",
       "    .dataframe tbody tr th:only-of-type {\n",
       "        vertical-align: middle;\n",
       "    }\n",
       "\n",
       "    .dataframe tbody tr th {\n",
       "        vertical-align: top;\n",
       "    }\n",
       "\n",
       "    .dataframe thead th {\n",
       "        text-align: right;\n",
       "    }\n",
       "</style>\n",
       "<table border=\"1\" class=\"dataframe\">\n",
       "  <thead>\n",
       "    <tr style=\"text-align: right;\">\n",
       "      <th></th>\n",
       "      <th>contractSymbol</th>\n",
       "      <th>lastTradeDate</th>\n",
       "      <th>strike</th>\n",
       "      <th>lastPrice</th>\n",
       "      <th>bid</th>\n",
       "      <th>ask</th>\n",
       "      <th>change</th>\n",
       "      <th>percentChange</th>\n",
       "      <th>volume</th>\n",
       "      <th>openInterest</th>\n",
       "      <th>impliedVolatility</th>\n",
       "      <th>inTheMoney</th>\n",
       "      <th>contractSize</th>\n",
       "      <th>currency</th>\n",
       "    </tr>\n",
       "  </thead>\n",
       "  <tbody>\n",
       "    <tr>\n",
       "      <th>0</th>\n",
       "      <td>MSFT240913C00270000</td>\n",
       "      <td>2024-08-26 18:14:43+00:00</td>\n",
       "      <td>270.0</td>\n",
       "      <td>143.30</td>\n",
       "      <td>131.25</td>\n",
       "      <td>133.35</td>\n",
       "      <td>0.0</td>\n",
       "      <td>0.0</td>\n",
       "      <td>NaN</td>\n",
       "      <td>1</td>\n",
       "      <td>1.569338</td>\n",
       "      <td>True</td>\n",
       "      <td>REGULAR</td>\n",
       "      <td>USD</td>\n",
       "    </tr>\n",
       "    <tr>\n",
       "      <th>1</th>\n",
       "      <td>MSFT240913C00280000</td>\n",
       "      <td>2024-08-05 13:56:07+00:00</td>\n",
       "      <td>280.0</td>\n",
       "      <td>117.41</td>\n",
       "      <td>128.05</td>\n",
       "      <td>129.90</td>\n",
       "      <td>0.0</td>\n",
       "      <td>0.0</td>\n",
       "      <td>NaN</td>\n",
       "      <td>1</td>\n",
       "      <td>2.536259</td>\n",
       "      <td>True</td>\n",
       "      <td>REGULAR</td>\n",
       "      <td>USD</td>\n",
       "    </tr>\n",
       "    <tr>\n",
       "      <th>2</th>\n",
       "      <td>MSFT240913C00295000</td>\n",
       "      <td>2024-08-05 13:50:43+00:00</td>\n",
       "      <td>295.0</td>\n",
       "      <td>103.40</td>\n",
       "      <td>113.05</td>\n",
       "      <td>114.90</td>\n",
       "      <td>0.0</td>\n",
       "      <td>0.0</td>\n",
       "      <td>NaN</td>\n",
       "      <td>1</td>\n",
       "      <td>2.260014</td>\n",
       "      <td>True</td>\n",
       "      <td>REGULAR</td>\n",
       "      <td>USD</td>\n",
       "    </tr>\n",
       "    <tr>\n",
       "      <th>3</th>\n",
       "      <td>MSFT240913C00300000</td>\n",
       "      <td>2024-09-05 18:58:13+00:00</td>\n",
       "      <td>300.0</td>\n",
       "      <td>108.39</td>\n",
       "      <td>101.30</td>\n",
       "      <td>103.40</td>\n",
       "      <td>0.0</td>\n",
       "      <td>0.0</td>\n",
       "      <td>4.0</td>\n",
       "      <td>10</td>\n",
       "      <td>1.218754</td>\n",
       "      <td>True</td>\n",
       "      <td>REGULAR</td>\n",
       "      <td>USD</td>\n",
       "    </tr>\n",
       "    <tr>\n",
       "      <th>4</th>\n",
       "      <td>MSFT240913C00305000</td>\n",
       "      <td>2024-08-05 13:50:43+00:00</td>\n",
       "      <td>305.0</td>\n",
       "      <td>93.80</td>\n",
       "      <td>103.10</td>\n",
       "      <td>104.95</td>\n",
       "      <td>0.0</td>\n",
       "      <td>0.0</td>\n",
       "      <td>NaN</td>\n",
       "      <td>2</td>\n",
       "      <td>2.085820</td>\n",
       "      <td>True</td>\n",
       "      <td>REGULAR</td>\n",
       "      <td>USD</td>\n",
       "    </tr>\n",
       "  </tbody>\n",
       "</table>\n",
       "</div>"
      ],
      "text/plain": [
       "        contractSymbol             lastTradeDate  strike  lastPrice     bid  \\\n",
       "0  MSFT240913C00270000 2024-08-26 18:14:43+00:00   270.0     143.30  131.25   \n",
       "1  MSFT240913C00280000 2024-08-05 13:56:07+00:00   280.0     117.41  128.05   \n",
       "2  MSFT240913C00295000 2024-08-05 13:50:43+00:00   295.0     103.40  113.05   \n",
       "3  MSFT240913C00300000 2024-09-05 18:58:13+00:00   300.0     108.39  101.30   \n",
       "4  MSFT240913C00305000 2024-08-05 13:50:43+00:00   305.0      93.80  103.10   \n",
       "\n",
       "      ask  change  percentChange  volume  openInterest  impliedVolatility  \\\n",
       "0  133.35     0.0            0.0     NaN             1           1.569338   \n",
       "1  129.90     0.0            0.0     NaN             1           2.536259   \n",
       "2  114.90     0.0            0.0     NaN             1           2.260014   \n",
       "3  103.40     0.0            0.0     4.0            10           1.218754   \n",
       "4  104.95     0.0            0.0     NaN             2           2.085820   \n",
       "\n",
       "   inTheMoney contractSize currency  \n",
       "0        True      REGULAR      USD  \n",
       "1        True      REGULAR      USD  \n",
       "2        True      REGULAR      USD  \n",
       "3        True      REGULAR      USD  \n",
       "4        True      REGULAR      USD  "
      ]
     },
     "execution_count": 4,
     "metadata": {},
     "output_type": "execute_result"
    }
   ],
   "source": [
    "# Get Microsoft calls options chain data\n",
    "option_chain.calls.head()"
   ]
  },
  {
   "cell_type": "markdown",
   "id": "83150745",
   "metadata": {},
   "source": [
    "The above output shows the call options chain for stock Microsoft. The option chain shows the bid, ask, and last traded price for different strike prices with date and time. It also shows the volume and open interest data for all strike prices."
   ]
  },
  {
   "cell_type": "code",
   "execution_count": 5,
   "id": "284b648c",
   "metadata": {},
   "outputs": [
    {
     "data": {
      "image/png": "[encoded data removed]",
      "text/plain": [
       "<Figure size 1500x700 with 1 Axes>"
      ]
     },
     "metadata": {},
     "output_type": "display_data"
    }
   ],
   "source": [
    "# Convert data to numpy arrays\n",
    "call_strike_prices = np.array(option_chain.calls.strike)\n",
    "call_last_prices = np.array(option_chain.calls.lastPrice)\n",
    "\n",
    "# Plot call strike price vs call last traded price \n",
    "plt.figure(figsize=(15, 7))\n",
    "plt.plot(call_strike_prices, call_last_prices)\n",
    "plt.xlabel('Strike Price', fontsize=12)\n",
    "plt.ylabel('Last Price', fontsize=12)\n",
    "plt.title('Microsoft Call Options Last Price for Different Strike', fontsize=14)\n",
    "plt.show()"
   ]
  },
  {
   "cell_type": "markdown",
   "id": "33331269",
   "metadata": {},
   "source": [
    "The above chart shows the Microsoft call options last traded price for different strike prices. As you can see, the call options price gradually falls as the strike price increases. Or in other words, options call price is higher for in the money options than out of the money options."
   ]
  },
  {
   "cell_type": "markdown",
   "id": "66359474",
   "metadata": {},
   "source": [
    "<a id='puts_data'></a>\n",
    "### Get Puts Data"
   ]
  },
  {
   "cell_type": "code",
   "execution_count": 6,
   "id": "b7fdc6ca",
   "metadata": {},
   "outputs": [
    {
     "data": {
      "text/html": [
       "<div>\n",
       "<style scoped>\n",
       "    .dataframe tbody tr th:only-of-type {\n",
       "        vertical-align: middle;\n",
       "    }\n",
       "\n",
       "    .dataframe tbody tr th {\n",
       "        vertical-align: top;\n",
       "    }\n",
       "\n",
       "    .dataframe thead th {\n",
       "        text-align: right;\n",
       "    }\n",
       "</style>\n",
       "<table border=\"1\" class=\"dataframe\">\n",
       "  <thead>\n",
       "    <tr style=\"text-align: right;\">\n",
       "      <th></th>\n",
       "      <th>contractSymbol</th>\n",
       "      <th>lastTradeDate</th>\n",
       "      <th>strike</th>\n",
       "      <th>lastPrice</th>\n",
       "      <th>bid</th>\n",
       "      <th>ask</th>\n",
       "      <th>change</th>\n",
       "      <th>percentChange</th>\n",
       "      <th>volume</th>\n",
       "      <th>openInterest</th>\n",
       "      <th>impliedVolatility</th>\n",
       "      <th>inTheMoney</th>\n",
       "      <th>contractSize</th>\n",
       "      <th>currency</th>\n",
       "    </tr>\n",
       "  </thead>\n",
       "  <tbody>\n",
       "    <tr>\n",
       "      <th>0</th>\n",
       "      <td>MSFT240913P00230000</td>\n",
       "      <td>2024-09-06 19:36:27+00:00</td>\n",
       "      <td>230.0</td>\n",
       "      <td>0.01</td>\n",
       "      <td>0.0</td>\n",
       "      <td>0.01</td>\n",
       "      <td>-0.18</td>\n",
       "      <td>-94.73684</td>\n",
       "      <td>350.0</td>\n",
       "      <td>9</td>\n",
       "      <td>1.281254</td>\n",
       "      <td>False</td>\n",
       "      <td>REGULAR</td>\n",
       "      <td>USD</td>\n",
       "    </tr>\n",
       "    <tr>\n",
       "      <th>1</th>\n",
       "      <td>MSFT240913P00240000</td>\n",
       "      <td>2024-09-06 14:28:18+00:00</td>\n",
       "      <td>240.0</td>\n",
       "      <td>0.01</td>\n",
       "      <td>0.0</td>\n",
       "      <td>0.01</td>\n",
       "      <td>-0.09</td>\n",
       "      <td>-90.00000</td>\n",
       "      <td>3.0</td>\n",
       "      <td>2</td>\n",
       "      <td>1.187504</td>\n",
       "      <td>False</td>\n",
       "      <td>REGULAR</td>\n",
       "      <td>USD</td>\n",
       "    </tr>\n",
       "    <tr>\n",
       "      <th>2</th>\n",
       "      <td>MSFT240913P00270000</td>\n",
       "      <td>2024-09-03 13:56:22+00:00</td>\n",
       "      <td>270.0</td>\n",
       "      <td>0.01</td>\n",
       "      <td>0.0</td>\n",
       "      <td>0.15</td>\n",
       "      <td>0.00</td>\n",
       "      <td>0.00000</td>\n",
       "      <td>1.0</td>\n",
       "      <td>1</td>\n",
       "      <td>1.195317</td>\n",
       "      <td>False</td>\n",
       "      <td>REGULAR</td>\n",
       "      <td>USD</td>\n",
       "    </tr>\n",
       "    <tr>\n",
       "      <th>3</th>\n",
       "      <td>MSFT240913P00280000</td>\n",
       "      <td>2024-09-06 19:35:49+00:00</td>\n",
       "      <td>280.0</td>\n",
       "      <td>0.01</td>\n",
       "      <td>0.0</td>\n",
       "      <td>0.15</td>\n",
       "      <td>-0.12</td>\n",
       "      <td>-92.30769</td>\n",
       "      <td>105.0</td>\n",
       "      <td>5</td>\n",
       "      <td>1.093755</td>\n",
       "      <td>False</td>\n",
       "      <td>REGULAR</td>\n",
       "      <td>USD</td>\n",
       "    </tr>\n",
       "    <tr>\n",
       "      <th>4</th>\n",
       "      <td>MSFT240913P00290000</td>\n",
       "      <td>2024-08-28 19:55:01+00:00</td>\n",
       "      <td>290.0</td>\n",
       "      <td>0.05</td>\n",
       "      <td>0.0</td>\n",
       "      <td>0.16</td>\n",
       "      <td>0.00</td>\n",
       "      <td>0.00000</td>\n",
       "      <td>1.0</td>\n",
       "      <td>21</td>\n",
       "      <td>1.003911</td>\n",
       "      <td>False</td>\n",
       "      <td>REGULAR</td>\n",
       "      <td>USD</td>\n",
       "    </tr>\n",
       "  </tbody>\n",
       "</table>\n",
       "</div>"
      ],
      "text/plain": [
       "        contractSymbol             lastTradeDate  strike  lastPrice  bid  \\\n",
       "0  MSFT240913P00230000 2024-09-06 19:36:27+00:00   230.0       0.01  0.0   \n",
       "1  MSFT240913P00240000 2024-09-06 14:28:18+00:00   240.0       0.01  0.0   \n",
       "2  MSFT240913P00270000 2024-09-03 13:56:22+00:00   270.0       0.01  0.0   \n",
       "3  MSFT240913P00280000 2024-09-06 19:35:49+00:00   280.0       0.01  0.0   \n",
       "4  MSFT240913P00290000 2024-08-28 19:55:01+00:00   290.0       0.05  0.0   \n",
       "\n",
       "    ask  change  percentChange  volume  openInterest  impliedVolatility  \\\n",
       "0  0.01   -0.18      -94.73684   350.0             9           1.281254   \n",
       "1  0.01   -0.09      -90.00000     3.0             2           1.187504   \n",
       "2  0.15    0.00        0.00000     1.0             1           1.195317   \n",
       "3  0.15   -0.12      -92.30769   105.0             5           1.093755   \n",
       "4  0.16    0.00        0.00000     1.0            21           1.003911   \n",
       "\n",
       "   inTheMoney contractSize currency  \n",
       "0       False      REGULAR      USD  \n",
       "1       False      REGULAR      USD  \n",
       "2       False      REGULAR      USD  \n",
       "3       False      REGULAR      USD  \n",
       "4       False      REGULAR      USD  "
      ]
     },
     "execution_count": 6,
     "metadata": {},
     "output_type": "execute_result"
    }
   ],
   "source": [
    "# Get Microsoft puts options chain data\n",
    "option_chain.puts.head()"
   ]
  },
  {
   "cell_type": "code",
   "execution_count": 7,
   "id": "492aedbb",
   "metadata": {},
   "outputs": [
    {
     "data": {
      "image/png": "[encoded data removed]",
      "text/plain": [
       "<Figure size 1500x700 with 1 Axes>"
      ]
     },
     "metadata": {},
     "output_type": "display_data"
    }
   ],
   "source": [
    "# Convert data to numpy arrays\n",
    "put_strike_prices = np.array(option_chain.puts.strike)\n",
    "put_last_prices = np.array(option_chain.puts.lastPrice)\n",
    "\n",
    "# Plot put strike price vs put last traded price\n",
    "plt.figure(figsize=(15, 7))\n",
    "plt.plot(put_strike_prices, put_last_prices, color='g')\n",
    "plt.xlabel('Strike Price', fontsize=12)\n",
    "plt.ylabel('Last Price', fontsize=12)\n",
    "plt.title('Microsoft Put Options Last Price for Different Strike', fontsize=14)\n",
    "plt.show()"
   ]
  },
  {
   "cell_type": "markdown",
   "id": "a57f744e",
   "metadata": {},
   "source": [
    "The above chart shows the Microsoft puts options last traded price for different strike prices. As you can see, the puts options price gradually rises as the strike price increases or the strike price goes from out of the money to in the money.\n",
    "\n",
    "In the next section, you will learn to fetch stock fundamental data. <br><br>"
   ]
  }
 ],
 "metadata": {
  "kernelspec": {
   "display_name": "Python 3 (ipykernel)",
   "language": "python",
   "name": "python3"
  },
  "language_info": {
   "codemirror_mode": {
    "name": "ipython",
    "version": 3
   },
   "file_extension": ".py",
   "mimetype": "text/x-python",
   "name": "python",
   "nbconvert_exporter": "python",
   "pygments_lexer": "ipython3",
   "version": "3.11.9"
  }
 },
 "nbformat": 4,
 "nbformat_minor": 5
}
