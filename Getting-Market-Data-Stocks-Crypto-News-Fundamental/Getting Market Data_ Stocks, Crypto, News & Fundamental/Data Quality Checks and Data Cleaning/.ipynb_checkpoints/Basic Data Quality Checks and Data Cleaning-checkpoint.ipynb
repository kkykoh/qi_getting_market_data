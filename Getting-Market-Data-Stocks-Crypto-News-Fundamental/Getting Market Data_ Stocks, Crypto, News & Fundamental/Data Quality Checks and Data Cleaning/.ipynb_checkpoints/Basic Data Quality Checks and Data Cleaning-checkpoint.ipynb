{
 "cells": [
  {
   "cell_type": "markdown",
   "id": "f1178c71-8e3a-45a0-8fac-4469c8789939",
   "metadata": {},
   "source": [
    "# Notebook Instructions\n",
    "\n",
    "1. If you are new to Jupyter notebooks, please go through this introductory manual <a href='https://quantra.quantinsti.com/quantra-notebook' target=\"_blank\">here</a>.\n",
    "1. Any changes made in this notebook would be lost after you close the browser window. **You can download the notebook to save your work on your PC.**\n",
    "1. Before running this notebook on your local PC:<br>\n",
    "i.  You need to set up a Python environment and the relevant packages on your local PC. To do so, go through the section on \"**Run Codes Locally on Your Machine**\" in the course.<br>\n",
    "ii. You need to **download the zip file available in the last unit** of this course. The zip file contains the data files and/or python modules that might be required to run this notebook."
   ]
  },
  {
   "cell_type": "markdown",
   "id": "880e116f",
   "metadata": {
    "id": "sNg_zio-oAHT"
   },
   "source": [
    "## Data Quality Checks and Data Cleaning\n",
    "\n",
    "Ensuring quality data for further analysis is very important for reliable results. In this notebook, you will learn about the basic steps involved in data quality checks and data cleaning.\n",
    "\n",
    "In this notebook, you will perform the following steps:\n",
    "\n",
    "1. [Read the Data](#read) \n",
    "2. [Explore the Data](#understand)\n",
    "3. [Null Values](#null)\n",
    "4. [Duplicate Values](#duplicate)\n",
    "5. [Outliers](#outliers)\n",
    "    \n",
    "<a id='read'></a> \n",
    "## Read the data\n",
    "\n",
    "You will be dealing with Apple's stock price data. The first step is to read the data. The data is stored in a CSV file. You can use the `read_csv()` method of the `pandas` library to read a CSV file.\n",
    "\n",
    "Syntax:\n",
    "```python\n",
    "import pandas as pd\n",
    "pd.read_csv(filename,index_col)\n",
    "```\n",
    "1. **filename**: Path + name of the file in the string format\n",
    "2. **index_col**: The column number to set as index"
   ]
  },
  {
   "cell_type": "code",
   "execution_count": 1,
   "id": "8b58285a",
   "metadata": {
    "id": "fvaQYCWtoAHc"
   },
   "outputs": [],
   "source": [
    "# Import libraries\n",
    "import pandas as pd\n",
    "import numpy as np\n",
    "import matplotlib.pyplot as plt\n",
    "%matplotlib inline\n",
    "plt.style.use('seaborn-v0_8-darkgrid')\n",
    "\n",
    "# Ignore warnings\n",
    "import warnings \n",
    "warnings.filterwarnings('ignore')\n",
    "\n",
    "# The data is stored in the directory 'data_modules'\n",
    "path = '../data_modules/'\n",
    "\n",
    "# Read the data using read_csv\n",
    "apple_price_data = pd.read_csv(path + 'AAPL.csv', index_col=0)\n",
    "\n",
    "# Set the index to a datetime object\n",
    "apple_price_data.index = pd.to_datetime(apple_price_data.index)"
   ]
  },
  {
   "cell_type": "markdown",
   "id": "c5eb8bd4",
   "metadata": {
    "id": "Pl71_SbfoAHe"
   },
   "source": [
    "<a id='understand'></a> \n",
    "## Explore the Data\n",
    "\n",
    "One of the first steps to perform when you receive the data is to understand what you have received. Explore what the dataset contains - the variables in it, their type, number of missing values and so on.\n",
    "\n",
    "You can use the `head()` or the `tail()` method of `pandas` to view the first or the last 5 rows of the dataframe.\n",
    "\n",
    "Syntax:\n",
    "```python\n",
    "DataFrame.head()\n",
    "\n",
    "DataFrame.tail()\n",
    "```"
   ]
  },
  {
   "cell_type": "code",
   "execution_count": 2,
   "id": "7dcb10c2",
   "metadata": {
    "id": "bvQMDjt98o_t",
    "outputId": "7051382f-2a48-4958-e38f-864ce9ed8753"
   },
   "outputs": [
    {
     "data": {
      "text/html": [
       "<div>\n",
       "<style scoped>\n",
       "    .dataframe tbody tr th:only-of-type {\n",
       "        vertical-align: middle;\n",
       "    }\n",
       "\n",
       "    .dataframe tbody tr th {\n",
       "        vertical-align: top;\n",
       "    }\n",
       "\n",
       "    .dataframe thead th {\n",
       "        text-align: right;\n",
       "    }\n",
       "</style>\n",
       "<table border=\"1\" class=\"dataframe\">\n",
       "  <thead>\n",
       "    <tr style=\"text-align: right;\">\n",
       "      <th></th>\n",
       "      <th>close</th>\n",
       "      <th>high</th>\n",
       "      <th>low</th>\n",
       "      <th>open</th>\n",
       "      <th>volume</th>\n",
       "    </tr>\n",
       "    <tr>\n",
       "      <th>date</th>\n",
       "      <th></th>\n",
       "      <th></th>\n",
       "      <th></th>\n",
       "      <th></th>\n",
       "      <th></th>\n",
       "    </tr>\n",
       "  </thead>\n",
       "  <tbody>\n",
       "    <tr>\n",
       "      <th>2020-08-28 14:45:00+00:00</th>\n",
       "      <td>500.793</td>\n",
       "      <td>501.490</td>\n",
       "      <td>500.35</td>\n",
       "      <td>500.540</td>\n",
       "      <td>100338.0</td>\n",
       "    </tr>\n",
       "    <tr>\n",
       "      <th>2020-08-28 15:00:00+00:00</th>\n",
       "      <td>502.088</td>\n",
       "      <td>502.240</td>\n",
       "      <td>501.79</td>\n",
       "      <td>501.810</td>\n",
       "      <td>75560.0</td>\n",
       "    </tr>\n",
       "    <tr>\n",
       "      <th>2020-08-28 15:15:00+00:00</th>\n",
       "      <td>501.500</td>\n",
       "      <td>501.559</td>\n",
       "      <td>501.29</td>\n",
       "      <td>501.459</td>\n",
       "      <td>46052.0</td>\n",
       "    </tr>\n",
       "    <tr>\n",
       "      <th>2020-08-28 15:30:00+00:00</th>\n",
       "      <td>504.340</td>\n",
       "      <td>505.410</td>\n",
       "      <td>504.30</td>\n",
       "      <td>504.880</td>\n",
       "      <td>310614.0</td>\n",
       "    </tr>\n",
       "    <tr>\n",
       "      <th>2020-08-28 15:45:00+00:00</th>\n",
       "      <td>498.890</td>\n",
       "      <td>499.730</td>\n",
       "      <td>498.81</td>\n",
       "      <td>499.545</td>\n",
       "      <td>1010884.0</td>\n",
       "    </tr>\n",
       "  </tbody>\n",
       "</table>\n",
       "</div>"
      ],
      "text/plain": [
       "                             close     high     low     open     volume\n",
       "date                                                                   \n",
       "2020-08-28 14:45:00+00:00  500.793  501.490  500.35  500.540   100338.0\n",
       "2020-08-28 15:00:00+00:00  502.088  502.240  501.79  501.810    75560.0\n",
       "2020-08-28 15:15:00+00:00  501.500  501.559  501.29  501.459    46052.0\n",
       "2020-08-28 15:30:00+00:00  504.340  505.410  504.30  504.880   310614.0\n",
       "2020-08-28 15:45:00+00:00  498.890  499.730  498.81  499.545  1010884.0"
      ]
     },
     "execution_count": 2,
     "metadata": {},
     "output_type": "execute_result"
    }
   ],
   "source": [
    "# Display the last five rows\n",
    "# You can also check the first five rows \n",
    "apple_price_data.tail()"
   ]
  },
  {
   "cell_type": "markdown",
   "id": "2ca1691f",
   "metadata": {
    "id": "3IyLeED88o_v"
   },
   "source": [
    "From the above output, you can see that your data has five columns, namely `close`, `high`, `low`, `open` and `volume`. You can further use the `info()` to understand more about these columns. The `info()` method will provide a concise summary of the DataFrame.\n",
    "\n",
    "Syntax:\n",
    "```python\n",
    "DataFrame.info()\n",
    "```"
   ]
  },
  {
   "cell_type": "code",
   "execution_count": 3,
   "id": "caf72c2f",
   "metadata": {
    "id": "tsQr-7ZOoAHe",
    "outputId": "3274fd92-6404-4d45-9ef9-68ce4c3fe5cf"
   },
   "outputs": [
    {
     "name": "stdout",
     "output_type": "stream",
     "text": [
      "<class 'pandas.core.frame.DataFrame'>\n",
      "DatetimeIndex: 30137 entries, 2016-01-04 09:30:00+00:00 to 2020-08-28 15:45:00+00:00\n",
      "Data columns (total 5 columns):\n",
      " #   Column  Non-Null Count  Dtype  \n",
      "---  ------  --------------  -----  \n",
      " 0   close   30133 non-null  float64\n",
      " 1   high    30137 non-null  float64\n",
      " 2   low     30137 non-null  float64\n",
      " 3   open    30137 non-null  float64\n",
      " 4   volume  30137 non-null  float64\n",
      "dtypes: float64(5)\n",
      "memory usage: 1.4 MB\n"
     ]
    }
   ],
   "source": [
    "# Display the concise summary of the data\n",
    "apple_price_data.info()"
   ]
  },
  {
   "cell_type": "markdown",
   "id": "20afbcdc",
   "metadata": {
    "id": "oyIKnYdK8o_w"
   },
   "source": [
    "This shows the column names, the number of non-null values in each column and the data type of each column. You can also see the total number of rows in the dataset, which is 30137 in this case.\n",
    "\n",
    "Although this indirectly shows the null values in each column, you can also use `.isna().sum()` to get the number of null observations in each column.\n",
    "\n",
    "Syntax:\n",
    "```python\n",
    "DataFrame.isna().sum()\n",
    "```"
   ]
  },
  {
   "cell_type": "code",
   "execution_count": 4,
   "id": "6f654232",
   "metadata": {
    "id": "AFe7rfpHoAHf",
    "outputId": "7eb4a061-38c6-431f-935c-6f367a713a09"
   },
   "outputs": [
    {
     "data": {
      "text/plain": [
       "close     4\n",
       "high      0\n",
       "low       0\n",
       "open      0\n",
       "volume    0\n",
       "dtype: int64"
      ]
     },
     "execution_count": 4,
     "metadata": {},
     "output_type": "execute_result"
    }
   ],
   "source": [
    "# Display the count of null values\n",
    "apple_price_data.isna().sum()"
   ]
  },
  {
   "cell_type": "markdown",
   "id": "fa4872a3",
   "metadata": {
    "id": "aN_agq8KoAHf"
   },
   "source": [
    "Thus, you can now see the `close` column has 4 missing or null values. \n",
    "\n",
    "<a id='null'></a> \n",
    "## Null Values\n",
    "\n",
    "The missing values found above might affect the machine learning model and cause it to give erroneous results. So you need to deal with these missing values appropriately.\n",
    "\n",
    "The easiest way to deal with this is to just ignore the observations having missing values. This is feasible only when the missing observations make up for a small fraction of the entire dataset. Neglecting a large number of observations might shorten your database and give false results. There are other techniques to deal with large number of missing values which is beyond the scope of this notebook.\n",
    "\n",
    "You can use the `dropna()` method to drop the rows with missing values.\n",
    "\n",
    "Syntax:\n",
    "```python\n",
    "DataFrame.dropna(inplace=True)\n",
    "```\n",
    "\n",
    "Parameters:<br>\n",
    "`inplace:` This takes two values, `True` or `False`. If `True`, the changes are saved in the existing dataframe. If `False`, the changes are not saved. By default, the value is `False`.\n",
    "\n",
    "After dropping the null values, you can check the number of rows in the dataframe by using the `shape` method.\n",
    "\n",
    "Syntax:\n",
    "```python\n",
    "DataFrame.shape[0]\n",
    "```"
   ]
  },
  {
   "cell_type": "code",
   "execution_count": 5,
   "id": "0386038b",
   "metadata": {
    "id": "q5bq7KUpoAHf",
    "outputId": "89a96771-74f1-45b0-d700-76fd6a78108a"
   },
   "outputs": [
    {
     "name": "stdout",
     "output_type": "stream",
     "text": [
      "Number of rows:  30133\n"
     ]
    },
    {
     "data": {
      "text/plain": [
       "close     0\n",
       "high      0\n",
       "low       0\n",
       "open      0\n",
       "volume    0\n",
       "dtype: int64"
      ]
     },
     "execution_count": 5,
     "metadata": {},
     "output_type": "execute_result"
    }
   ],
   "source": [
    "# Drop the missing values\n",
    "apple_price_data.dropna(inplace=True)\n",
    "\n",
    "# Print the number of rows in the dataframe\n",
    "print('Number of rows: ', apple_price_data.shape[0])\n",
    "\n",
    "# Display the count of null values\n",
    "apple_price_data.isna().sum()"
   ]
  },
  {
   "cell_type": "markdown",
   "id": "a00315f2",
   "metadata": {
    "id": "A5SotJw_8o_y"
   },
   "source": [
    "After dropping the null values, you can see that the resulting dataframe has no null values and the number of rows has reduced from 30137 to 30133.\n",
    "\n",
    "<a id='duplicate'></a> \n",
    "## Duplicate Values\n",
    "\n",
    "There may be duplicate values in the dataset. This may happen due to human error while gathering the data or may occur while merging datasets from different sources. You can use `duplicated().value_counts()` to check the count of duplicate values.\n",
    "\n",
    "Syntax:\n",
    "```python\n",
    "DataFrame.duplicated().value_counts()\n",
    "```\n",
    "\n",
    "`duplicated()` returns a series of `True` and `False` indicating whether the corresponding observation is duplicated or not. <br>\n",
    "`value_counts()` returns the count of `True` and `False`."
   ]
  },
  {
   "cell_type": "code",
   "execution_count": 6,
   "id": "aa73aadb",
   "metadata": {
    "id": "F0SbbfOnoAHh",
    "outputId": "96904e24-438d-4b32-93ab-a0e98338159d"
   },
   "outputs": [
    {
     "name": "stdout",
     "output_type": "stream",
     "text": [
      "False    29918\n",
      "True       215\n",
      "Name: count, dtype: int64\n",
      "Proportion of duplicate values is 0.0071.\n"
     ]
    }
   ],
   "source": [
    "# Display the count of duplicate values\n",
    "print(apple_price_data.duplicated().value_counts())\n",
    "print('Proportion of duplicate values is {}.'.format( \n",
    "      round(apple_price_data.duplicated().value_counts()[1]/apple_price_data.shape[0],\n",
    "            4)))"
   ]
  },
  {
   "cell_type": "markdown",
   "id": "81bf7047",
   "metadata": {
    "id": "gFETpy5q8o_z"
   },
   "source": [
    "Thus you can see the dataset has 215 duplicate values, i.e. approximately 0.7%. A general rule of thumb is to ignore the duplicate values if they are less than 0.5%. This is because, if the proportion is very low, duplicate values can also be because of chance. If it is higher than 0.5%, you can check if the consecutive values are duplicates. If the consecutive values are duplicates, you can drop them."
   ]
  },
  {
   "cell_type": "code",
   "execution_count": 7,
   "id": "4b813d86",
   "metadata": {
    "id": "rbhUecdMoAHh",
    "outputId": "16d24f0f-3c25-4479-a2e4-228cfc2c78b6"
   },
   "outputs": [
    {
     "name": "stdout",
     "output_type": "stream",
     "text": [
      "Number of rows:  29927\n"
     ]
    }
   ],
   "source": [
    "# Drop the consecutive duplicate values\n",
    "apple_price_data = apple_price_data.loc[(apple_price_data['close'].diff() != 0) | \n",
    "                                        (apple_price_data['open'].diff() != 0) |\n",
    "                                        (apple_price_data['high'].diff() != 0) |\n",
    "                                        (apple_price_data['low'].diff() != 0)]\n",
    "\n",
    "# Check the number of rows\n",
    "print(\"Number of rows: \", apple_price_data.shape[0])"
   ]
  },
  {
   "cell_type": "markdown",
   "id": "251012b9",
   "metadata": {
    "id": "5FXYJC8m8o_0"
   },
   "source": [
    "Thus you can see that, after dropping the consecutive duplicate values, the number of rows has reduced from 30133 to 29927.\n",
    "\n",
    "<a id='outliers'></a> \n",
    "## Outliers\n",
    "\n",
    "Outliers are values that are unusually large or small for the column. There are multiple ways to visualise them. You can calculate the percentage change and plot a graph of the change. If the change is too big, it suggests an outlier."
   ]
  },
  {
   "cell_type": "code",
   "execution_count": 8,
   "id": "c367254e",
   "metadata": {
    "id": "eUJNQRZgoAHi",
    "outputId": "c731f70e-d0a3-4237-9365-2e6f242a26cf"
   },
   "outputs": [
    {
     "data": {
      "image/png": "[encoded data removed]",
      "text/plain": [
       "<Figure size 1000x700 with 1 Axes>"
      ]
     },
     "metadata": {},
     "output_type": "display_data"
    }
   ],
   "source": [
    "# Calculate the percentage change\n",
    "apple_price_data['returns'] = apple_price_data['close'].pct_change()\n",
    "\n",
    "# Plot the percentage change\n",
    "plt.figure(figsize=(10,7))\n",
    "apple_price_data['returns'].plot()\n",
    "# Set the title and axes label\n",
    "plt.title('Returns', fontsize=14)\n",
    "plt.xlabel('Year', fontsize=12)\n",
    "plt.ylabel('Percentage Change', fontsize=12)\n",
    "# Show the plot\n",
    "plt.show()"
   ]
  },
  {
   "cell_type": "markdown",
   "id": "069c10a9",
   "metadata": {
    "id": "7C3vbj-u8o_0"
   },
   "source": [
    "In the above chart, you can see huge spikes:\n",
    "* One at the beginning\n",
    "* Second a little after 2019 <br>\n",
    "\n",
    "These lines mean that the change is huge at one particular time step. This can be due to some error in recording, suggesting the presence of an outlier.\n",
    "\n",
    "## Conclusion\n",
    "\n",
    "Data cleaning is an important part of any process that deals with data. Without it, the analysis might fail and give misleading results. \n",
    "<br><br>"
   ]
  }
 ],
 "metadata": {
  "colab": {
   "name": "Data Quality Checks and Data Cleaning.ipynb",
   "provenance": []
  },
  "kernelspec": {
   "display_name": "Python 3 (ipykernel)",
   "language": "python",
   "name": "python3"
  },
  "language_info": {
   "codemirror_mode": {
    "name": "ipython",
    "version": 3
   },
   "file_extension": ".py",
   "mimetype": "text/x-python",
   "name": "python",
   "nbconvert_exporter": "python",
   "pygments_lexer": "ipython3",
   "version": "3.11.9"
  }
 },
 "nbformat": 4,
 "nbformat_minor": 5
}
